{
  "nbformat": 4,
  "nbformat_minor": 0,
  "metadata": {
    "colab": {
      "name": "Untitled1.ipynb",
      "provenance": [],
      "collapsed_sections": [],
      "toc_visible": true,
      "authorship_tag": "ABX9TyNzLXjfptPEPVyJKeV+wkg/",
      "include_colab_link": true
    },
    "kernelspec": {
      "name": "python3",
      "display_name": "Python 3"
    },
    "language_info": {
      "name": "python"
    }
  },
  "cells": [
    {
      "cell_type": "markdown",
      "metadata": {
        "id": "view-in-github",
        "colab_type": "text"
      },
      "source": [
        "<a href=\"https://colab.research.google.com/github/anyangi/colab/blob/main/vegas_cars.ipynb\" target=\"_parent\"><img src=\"https://colab.research.google.com/assets/colab-badge.svg\" alt=\"Open In Colab\"/></a>"
      ]
    },
    {
      "cell_type": "code",
      "execution_count": 1,
      "metadata": {
        "id": "re5BstWbIJxR"
      },
      "outputs": [],
      "source": [
        "from google.colab import data_table\n",
        "data_table.enable_dataframe_formatter()\n"
      ]
    },
    {
      "cell_type": "code",
      "source": [
        "from google.colab import data_table\n",
        "import urllib\n",
        "\n",
        "from vega_datasets import data\n",
        "\n",
        "def import_url(URL):\n",
        "  urllib.open(URL).read in globals()\n",
        "  URL ='https://github.com/anyangi/colab/blob/main/vegas_dataset'\n",
        "\n",
        "cars = data.cars()\n",
        "\n",
        "cars\n",
        "\n"
      ],
      "metadata": {
        "id": "tgApPrjmLcYX"
      },
      "execution_count": null,
      "outputs": []
    }
  ]
}